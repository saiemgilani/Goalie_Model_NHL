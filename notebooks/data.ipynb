{
 "cells": [
  {
   "cell_type": "code",
   "execution_count": null,
   "metadata": {},
   "outputs": [],
   "source": [
    "%%javascript\n",
    "IPython.OutputArea.prototype._should_scroll = function(lines) {\n",
    "    return false;\n",
    "}"
   ]
  },
  {
   "cell_type": "code",
   "execution_count": null,
   "metadata": {},
   "outputs": [],
   "source": [
    "from matplotlib import pyplot as plt\n",
    "%matplotlib inline\n",
    "\n",
    "import pandas as pd\n",
    "pd.set_option('display.max_columns', None)  \n",
    "pd.set_option('display.max_rows', None)  \n",
    "pd.set_option('display.expand_frame_repr', False)\n",
    "pd.set_option('max_colwidth', -1)\n",
    "\n",
    "def pp(df, count=5):\n",
    "    print(f'Total count: {df.count():,}')\n",
    "    return df.limit(count).toPandas().head(count)\n",
    "\n",
    "import pyspark.sql.functions as f\n",
    "from pyspark.sql import *\n",
    "from pyspark.sql.types import *\n",
    "from pyspark.sql.window import Window\n",
    "import numpy as np\n",
    "import os\n",
    "from datetime import datetime\n",
    "\n",
    "spark.sparkContext.setCheckpointDir('/tmp')"
   ]
  },
  {
   "cell_type": "markdown",
   "metadata": {},
   "source": [
    "## Preprocess Raw Data"
   ]
  },
  {
   "cell_type": "code",
   "execution_count": null,
   "metadata": {},
   "outputs": [],
   "source": [
    "# INPUT_FILE = '../data/shots_2007-2018.csv'\n",
    "INPUT_FILE = '../data/shots_2007-2018_with_stats.csv'\n",
    "# INPUT_FILE = '../data/raw.csv'"
   ]
  },
  {
   "cell_type": "markdown",
   "metadata": {},
   "source": [
    "### Clean Data"
   ]
  },
  {
   "cell_type": "code",
   "execution_count": null,
   "metadata": {},
   "outputs": [],
   "source": [
    "df = spark.read.csv(INPUT_FILE, header=True, inferSchema=True)\n",
    "\n",
    "df = df.drop_duplicates(['season', 'game_id', 'time', 'shooterPlayerId', 'xCordAdjusted', 'yCordAdjusted'])\n",
    "df = df.where('shotOnEmptyNet = 0')  # Remove empty net shots\n",
    "df = df.where('shotDistance < 70')  # Remove shots from far away\n",
    "\n",
    "# Reduce the lastEventCategory field\n",
    "last_event_remove = ['GOAL', 'PENL', 'ANTHEM', 'STOP', 'PSTR', 'CHL', 'PEND', 'GEND', 'EISTR']\n",
    "last_event_cond = f.col('lastEventCategory').isin(last_event_remove) | f.col('lastEventCategory').isNull()\n",
    "col = f.when(last_event_cond, 'NONE').otherwise(f.col('lastEventCategory'))\n",
    "df = df.withColumn('lastEventCategory', col)\n",
    "\n",
    "# Reduce the *SkatersOnIce fields\n",
    "field = 'homeSkatersOnIce'\n",
    "col = f.when(f.col(field).isin([7, 8, 9, 10]), f.lit(6)) \\\n",
    "    .when(f.col(field).isin([1, 2]), f.lit(3)) \\\n",
    "    .otherwise(f.col(field))\n",
    "df = df.withColumn(field, col)\n",
    "\n",
    "field = 'awaySkatersOnIce'\n",
    "col = f.when(f.col(field).isin([7, 8, 9, 10]), f.lit(6)) \\\n",
    "    .when(f.col(field).isin([1, 2]), f.lit(3)) \\\n",
    "    .otherwise(f.col(field))\n",
    "df = df.withColumn(field, col)\n",
    "\n",
    "# Reduce playerPositionThatDidEvent field\n",
    "col = f.when(f.col('playerPositionThatDidEvent').isNull(), f.lit('C')) \\\n",
    "    .when(f.col('playerPositionThatDidEvent').isin(['G']), f.lit('C')) \\\n",
    "    .when(f.col('playerPositionThatDidEvent').isin(['L', 'R']), f.lit('W')) \\\n",
    "    .otherwise(f.col('playerPositionThatDidEvent'))\n",
    "df = df.withColumn('playerPositionThatDidEvent', col)\n",
    "\n",
    "# Reduce shotType field\n",
    "col = f.when(f.col('shotType').isNull(), f.lit('WRIST')) \\\n",
    "    .when(f.col('shotType').isin(['WRAP', 'DEFL', 'TIP']), f.lit('QUICK')) \\\n",
    "    .otherwise(f.col('shotType'))\n",
    "df = df.withColumn('shotType', col)\n",
    "\n",
    "# Reduce location field\n",
    "col = f.when(f.col('location').isNull(), f.lit('Neu. Zone')) \\\n",
    "    .otherwise(f.col('location'))\n",
    "df = df.withColumn('location', col)\n",
    "\n",
    "# goal_count = df.where('goal = 1').count()\n",
    "# all_count = df.count()\n",
    "# print(f'Goal to shot ratio: {goal_count:,} / {all_count:,} = {(goal_count / all_count):.2%}')"
   ]
  },
  {
   "cell_type": "markdown",
   "metadata": {},
   "source": [
    "### Add Features"
   ]
  },
  {
   "cell_type": "code",
   "execution_count": null,
   "metadata": {},
   "outputs": [],
   "source": [
    "# Generate a unique identifier\n",
    "df = df.withColumn('uid', f.concat(f.col('season'), f.col('game_id')))\n",
    "\n",
    "# Add score state columns\n",
    "shooting_team_goals = f.when(f.col('team') == 'AWAY', \n",
    "                             f.col('awayTeamGoals')).otherwise(f.col('homeTeamGoals'))\n",
    "df = df.withColumn('ShootingTeamGoals', shooting_team_goals)\n",
    "\n",
    "defending_team_goals = f.when(f.col('team') == 'AWAY', \n",
    "                              f.col('homeTeamGoals')).otherwise(f.col('awayTeamGoals'))\n",
    "df = df.withColumn('DefendingTeamGoals', defending_team_goals)\n",
    "\n",
    "# Score difference\n",
    "df = df.withColumn('ScoreDiff', f.col('ShootingTeamGoals') - f.col('DefendingTeamGoals'))\n",
    "\n",
    "# Score situation\n",
    "score_situation = f.when(f.col('ScoreDiff') == 0, f.lit('even')) \\\n",
    "                  .when(f.col('ScoreDiff') == 1, f.lit('up1')) \\\n",
    "                  .when(f.col('ScoreDiff') == 2, f.lit('up2')) \\\n",
    "                  .when(f.col('ScoreDiff') > 2, f.lit('up3ormore')) \\\n",
    "                  .when(f.col('ScoreDiff') == -1, f.lit('down1')) \\\n",
    "                  .when(f.col('ScoreDiff') == -2, f.lit('down2')) \\\n",
    "                  .when(f.col('ScoreDiff') < -2, f.lit('down3ormore'))\n",
    "df = df.withColumn('ScoreSituation', score_situation)\n",
    "\n",
    "# Add team strength columns\n",
    "shooting_team_skaters = f.when(f.col('team') == 'AWAY', \n",
    "                               f.col('awaySkatersOnIce')).otherwise(f.col('homeSkatersOnIce'))\n",
    "df = df.withColumn('ShootingTeamSkaters', shooting_team_skaters)\n",
    "\n",
    "defending_team_skaters = f.when(f.col('team') == 'AWAY', \n",
    "                                f.col('homeSkatersOnIce')).otherwise(f.col('awaySkatersOnIce'))\n",
    "df = df.withColumn('DefendingTeamSkaters', defending_team_skaters)\n",
    "\n",
    "# Calculate number of offensive team skaters versus defending team skaters and create a player situation label\n",
    "df = df.withColumn('SkaterDiff', f.col('ShootingTeamSkaters') - f.col('DefendingTeamSkaters'))\n",
    "df = df.withColumn('situation', f.concat(f.col('ShootingTeamSkaters'), \n",
    "                                         f.lit('on'), \n",
    "                                         f.col('DefendingTeamSkaters')))\n",
    "\n",
    "df = df.withColumn('coarseSituation', f.when(f.col('SkaterDiff') == 0, f.lit('even')) \\\n",
    "                   .when(f.col('SkaterDiff') > 0, f.lit('power')).otherwise('under'))\n",
    "\n",
    "# Shot distance columns\n",
    "df = df.withColumn('Back_dist', f.when(f.col('shotType') == 'BACK', f.col('shotDistance')).otherwise(f.lit(0.)))\n",
    "df = df.withColumn('Quick_dist', f.when(f.col('shotType') == 'QUICK', f.col('shotDistance')).otherwise(f.lit(0.)))\n",
    "df = df.withColumn('Slap_dist', f.when(f.col('shotType') == 'SLAP', f.col('shotDistance')).otherwise(f.lit(0.)))\n",
    "df = df.withColumn('Snap_dist', f.when(f.col('shotType') == 'SNAP', f.col('shotDistance')).otherwise(f.lit(0.)))\n",
    "df = df.withColumn('Wrist_dist', f.when(f.col('shotType') == 'WRIST', f.col('shotDistance')).otherwise(f.lit(0.)))\n",
    "\n",
    "# Simple calculated fields\n",
    "df = df.withColumn('Dist_angle', f.col('shotAngleAdjusted') * f.col('shotDistance'))\n",
    "df = df.withColumn('Rebound_dist', f.col('shotRebound') * f.col('shotDistance'))\n",
    "df = df.withColumn('Square_dist', f.pow(f.col('shotDistance'), f.lit(2)))\n",
    "df = df.withColumn('Square_angle', f.pow(f.col('shotAngleAdjusted'), f.lit(2)))\n",
    "df = df.withColumn('Square_all', f.col('Square_angle') * f.col('Square_dist'))\n",
    "df = df.withColumn('OverallRestDiff', \n",
    "                   f.col('shootingTeamAverageTimeOnIce') - f.col('defendingTeamAverageTimeOnIce'))\n",
    "\n",
    "# Rate values\n",
    "rateify = ['Skater_G', 'Skater_Ast', 'Skater_Pts', 'Skater_Plus_Minus', 'Skater_Pen_In_Min', 'Skater_PShares',\n",
    "           'Skater_EV_G', 'Special_Teams_PP_G', 'Special_Teams_SH_G', 'Skater_GWinners', 'Assists_EV', \n",
    "           'Assists_PP', 'Assists_SH', 'Skater_Shots', 'BLK', 'HIT', 'FOW', 'FOL']\n",
    "for r in rateify:\n",
    "    df = df.withColumn(f'{r}_rate', f.when(f.col('Skater_GP') != 0, \n",
    "                                           f.col(r) / f.col('Skater_GP')).otherwise(f.lit(0)))\n",
    "\n",
    "rateify_adv = ['Corsi_EV_CF', 'Corsi_EV_CA', 'Fenwick_EV_FF', 'Fenwick_EV_FA', 'SAtt']\n",
    "for r in rateify_adv:\n",
    "    df = df.withColumn(f'{r}_rate', f.when(f.col('Adv_GP') != 0, \n",
    "                                           f.col(r) / f.col('Adv_GP')).otherwise(f.lit(0)))"
   ]
  },
  {
   "cell_type": "markdown",
   "metadata": {},
   "source": [
    "### Calculate Advanced Features\n",
    " - *shTalent*: Ratio of goals over expected goals for shots up to that point\n",
    " - *shotsWithinX*: Number of shots within X seconds of current shot at different thresholds"
   ]
  },
  {
   "cell_type": "code",
   "execution_count": null,
   "metadata": {},
   "outputs": [],
   "source": [
    "# Shooter stat\n",
    "GOAL_THRESHOLD = 5\n",
    "DEFAULT_SCORE = 1.0\n",
    "\n",
    "SORT_COLUMNS = ['season', 'game_id', 'time']\n",
    "\n",
    "shooter_window = Window.partitionBy('shooterPlayerId').orderBy(*SORT_COLUMNS) \\\n",
    "    .rowsBetween(Window.unboundedPreceding, Window.currentRow - 1)\n",
    "df = df.withColumn('goal_sum', f.sum('goal').over(shooter_window))\n",
    "df = df.withColumn('xGoal_sum', f.sum('xGoal').over(shooter_window))\n",
    "\n",
    "shTalent = f.when(f.col('goal_sum').isNull() | (f.col('goal_sum') < GOAL_THRESHOLD), \n",
    "                  f.lit(DEFAULT_SCORE)).otherwise(f.col('goal_sum') / f.col('xGoal_sum'))\n",
    "df = df.withColumn('shTalent', shTalent)\n",
    "df = df.drop('goal_sum', 'xGoal_sum')\n",
    "\n",
    "# Shots within stat\n",
    "SHOTS_WITHIN_TIMES = [5, 10, 15, 20, 30, 40, 60]\n",
    "\n",
    "for tm in SHOTS_WITHIN_TIMES:\n",
    "    shots_window = Window.partitionBy('season', 'game_id').orderBy('time').rangeBetween(-tm, 0)\n",
    "    df = df.withColumn(f'shotsWithin{tm}', f.count('time').over(shots_window) - 1)"
   ]
  },
  {
   "cell_type": "markdown",
   "metadata": {},
   "source": [
    "### Zone"
   ]
  },
  {
   "cell_type": "code",
   "execution_count": null,
   "metadata": {},
   "outputs": [],
   "source": [
    "def rslot(x1,y1,x2,y2,x,y,top,bot):\n",
    "    slope = (y2-y1)/(x2-x1)\n",
    "    addedY = slope*(x-x1)\n",
    "    dividingY = y1 + addedY\n",
    "    if float(y) >= float(dividingY):\n",
    "        return(top)\n",
    "    else:\n",
    "        return(bot)\n",
    "\n",
    "def hockeyZones(row):\n",
    "    x = row['xCordAdjusted']\n",
    "    y = row['yCordAdjusted']\n",
    "    if x >= 50:\n",
    "        if y >= 51.5:\n",
    "            return\"R-Point\"\n",
    "        elif y >= 33.5:\n",
    "            return \"C-Point\"\n",
    "        else:\n",
    "            return \"L-Point\"\n",
    "    elif x >= 31:\n",
    "        if y >= 68.5:\n",
    "            return \"R-1\"\n",
    "        elif y >= 51.5:\n",
    "            return \"R-2\"\n",
    "        elif y >= 33.5:\n",
    "            return \"HighSlot\"\n",
    "        elif y >= 15.5:\n",
    "            return \"L-2\"\n",
    "        else:\n",
    "            return \"L-1\"\n",
    "    elif x >= 11:\n",
    "        if y >= 68.5:\n",
    "            return \"R-Low\"\n",
    "        elif y >= 51.5:\n",
    "            return rslot(11,51.5,31,68.5,x,y,\"R-Low\",\"R-Slot\")\n",
    "        elif y >= 33.5:\n",
    "            if x >= 21:\n",
    "                return \"Slot\"\n",
    "            else:\n",
    "                return \"Lowslot\"\n",
    "        elif y >= 15.5:\n",
    "            return rslot(11,33.5,31,15.5,x,y,\"L-Slot\",\"L-Low\")\n",
    "        else:\n",
    "            return(\"L-Low\")\n",
    "    else:\n",
    "        if( y >= 56.8):\n",
    "            return(\"R-Back\")\n",
    "        elif y >= 51.5:\n",
    "            return rslot(0,56.8,11,51.5,x,y,\"R-Back\",\"Downlow\")\n",
    "        elif  y >= 33.5:\n",
    "            return \"Downlow\"\n",
    "        elif y >= 28.5:\n",
    "            return rslot(0,28.5,11,33.5,x,y,\"Downlow\",\"L-Back\")\n",
    "        else:\n",
    "            return \"L-Back\"\n",
    "        \n",
    "df_pd = df.toPandas()\n",
    "df_pd['Zone'] = df_pd.apply(hockeyZones, axis=1)"
   ]
  },
  {
   "cell_type": "markdown",
   "metadata": {},
   "source": [
    "### Arrange columns and write data"
   ]
  },
  {
   "cell_type": "code",
   "execution_count": null,
   "metadata": {},
   "outputs": [],
   "source": [
    "# first_columns = ['goal', 'goalieIdForShot', 'goalieNameForShot', 'shooterPlayerId', 'shooterName', 'uid', 'xGoal']\n",
    "# cols = list(filter(lambda x: x not in first_columns, df.columns))\n",
    "# df = df.select(*(first_columns + cols))\n",
    "\n",
    "# df.coalesce(1).write.mode('overwrite').csv(f'{os.path.splitext(INPUT_FILE)[0]}_processed', header=True)\n",
    "\n",
    "df_pd.to_csv(f'{os.path.splitext(INPUT_FILE)[0]}_processed.csv', index=False)"
   ]
  },
  {
   "cell_type": "markdown",
   "metadata": {},
   "source": [
    "---"
   ]
  },
  {
   "cell_type": "markdown",
   "metadata": {},
   "source": [
    "## Postprocessing"
   ]
  },
  {
   "cell_type": "code",
   "execution_count": null,
   "metadata": {},
   "outputs": [],
   "source": [
    "NUM_SIMULATIONS = 200\n",
    "\n",
    "INPUT_FILE = 'shots_2007-2018_with_stats_processed.csv'\n",
    "\n",
    "INPUT_PATH = f'../data/{INPUT_FILE}'\n",
    "PRED_PATH = f'../training-runs/xgboost/pred_{INPUT_FILE}'\n",
    "\n",
    "COLUMNS = [\n",
    "    'goalieIdForShot',\n",
    "    'season',\n",
    "    'game_id',\n",
    "    'goal',\n",
    "]\n",
    "\n",
    "print(datetime.now())"
   ]
  },
  {
   "cell_type": "code",
   "execution_count": null,
   "metadata": {},
   "outputs": [],
   "source": [
    "data_df = pd.read_csv(INPUT_PATH)\n",
    "data_df = data_df[COLUMNS]\n",
    "\n",
    "pred_df = pd.read_csv(PRED_PATH)\n",
    "\n",
    "data_df['prob_goal'] = pred_df['prob_goal']\n",
    "\n",
    "data_df = spark.createDataFrame(data_df)"
   ]
  },
  {
   "cell_type": "code",
   "execution_count": null,
   "metadata": {
    "scrolled": true
   },
   "outputs": [],
   "source": [
    "column_names = []\n",
    "for i in range(NUM_SIMULATIONS):\n",
    "    data_df = data_df.withColumn(f'g{i}', f.when(f.rand() < f.col('prob_goal'), f.lit(1)).otherwise(f.lit(0)))\n",
    "    column_names.append(f'g{i}')\n",
    "    \n",
    "# Aggregrate by game for each goalie\n",
    "sims = [f.sum(cn).alias(cn) for cn in column_names]\n",
    "data_df = data_df.groupBy('goalieIdForShot', 'season', 'game_id').agg(f.sum('goal').alias('goal'), *sims)\n",
    "\n",
    "# Build the cumlative sums over games of each simulation\n",
    "goalie_window = Window.partitionBy('goalieIdForShot').orderBy('season', 'game_id') \\\n",
    "    .rowsBetween(Window.unboundedPreceding, Window.currentRow)\n",
    "data_df = data_df.withColumn('goal', f.sum('goal').over(goalie_window))\n",
    "for i in range(NUM_SIMULATIONS):\n",
    "    data_df = data_df.withColumn(column_names[i], f.sum(column_names[i]).over(goalie_window))\n",
    "\n",
    "# Get game number\n",
    "goalie_game_window = Window.partitionBy('goalieIdForShot').orderBy('season', 'game_id')\n",
    "data_df = data_df.withColumn('game', f.rank().over(goalie_game_window))\n",
    "\n",
    "data_df = data_df.withColumn('sim', f.array(*column_names)).drop(*column_names)\n",
    "\n",
    "# pp(data_df)"
   ]
  },
  {
   "cell_type": "code",
   "execution_count": null,
   "metadata": {},
   "outputs": [],
   "source": [
    "@f.udf(returnType=MapType(IntegerType(), FloatType()))\n",
    "def pmf(arr):\n",
    "    sz = len(arr)\n",
    "    unique, counts = np.unique(arr, return_counts=True)\n",
    "    cnt = dict(zip(unique.tolist(), counts.tolist()))\n",
    "    prb = {k: v / sz for (k, v) in cnt.items()}\n",
    "    return prb\n",
    "\n",
    "# Build the probability mass function\n",
    "data_df = data_df.withColumn('pmf', pmf('sim'))\n",
    "\n",
    "# Explode the pmf as a row per sim goal value\n",
    "data_df = data_df.select(f.col('goalieIdForShot').alias('goalie_id'), \n",
    "                         f.col('game'),\n",
    "                         f.col('goal').alias('actual_goals'),\n",
    "                         f.explode('pmf'))\n",
    "data_df = data_df.withColumnRenamed('key', 'sim_goals')\n",
    "\n",
    "# Accumulate the pmf to get the cdf and adjust column names\n",
    "goalie_game_window = Window.partitionBy('goalie_id', 'game').orderBy('sim_goals') \\\n",
    "    .rowsBetween(Window.unboundedPreceding, Window.currentRow)\n",
    "data_df = data_df.withColumn('cdf_score', f.sum('value').over(goalie_game_window)).drop('value')\n",
    "\n",
    "data_df = data_df.orderBy('goalie_id', 'game', 'sim_goals')\n",
    "\n",
    "data_df.write.mode('overwrite').csv('sim_cdf_dbf.csv', header=True)\n",
    "# pp(data_df.orderBy('goalie_id', 'game', 'sim_goals'), 100)"
   ]
  },
  {
   "cell_type": "code",
   "execution_count": null,
   "metadata": {},
   "outputs": [],
   "source": [
    "print(datetime.now())"
   ]
  },
  {
   "cell_type": "markdown",
   "metadata": {},
   "source": [
    "---"
   ]
  },
  {
   "cell_type": "markdown",
   "metadata": {},
   "source": [
    "### Testing"
   ]
  },
  {
   "cell_type": "code",
   "execution_count": null,
   "metadata": {},
   "outputs": [],
   "source": [
    "df = spark.read.csv('sim_cdf_dbf.csv', header=True, inferSchema=True)\n",
    "df = df.orderBy('goalie_id', 'game', 'sim_goals')\n",
    "pp(df, 100)"
   ]
  },
  {
   "cell_type": "code",
   "execution_count": null,
   "metadata": {},
   "outputs": [],
   "source": []
  }
 ],
 "metadata": {
  "kernelspec": {
   "display_name": "Python 3",
   "language": "python",
   "name": "python3"
  },
  "language_info": {
   "codemirror_mode": {
    "name": "ipython",
    "version": 3
   },
   "file_extension": ".py",
   "mimetype": "text/x-python",
   "name": "python",
   "nbconvert_exporter": "python",
   "pygments_lexer": "ipython3",
   "version": "3.7.4"
  }
 },
 "nbformat": 4,
 "nbformat_minor": 2
}
